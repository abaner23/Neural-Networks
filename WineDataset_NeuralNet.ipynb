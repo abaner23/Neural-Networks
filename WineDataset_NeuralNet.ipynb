{
 "cells": [
  {
   "cell_type": "code",
   "execution_count": 37,
   "metadata": {},
   "outputs": [],
   "source": [
    "import pandas as pd\n",
    "import sklearn.model_selection as sk\n",
    "import numpy as np\n",
    "import sklearn.preprocessing as pr\n",
    "import keras.models as mdl\n",
    "from keras.layers import Dense"
   ]
  },
  {
   "cell_type": "code",
   "execution_count": 14,
   "metadata": {},
   "outputs": [],
   "source": [
    "df_red=pd.read_csv('C:\\\\Users\\\\barna\\\\Documents\\\\data mining\\\\red.csv',sep=';')\n",
    "df_white=pd.read_csv('C:\\\\Users\\\\barna\\\\Documents\\\\data mining\\\\white.csv',sep=';')"
   ]
  },
  {
   "cell_type": "code",
   "execution_count": 15,
   "metadata": {},
   "outputs": [
    {
     "data": {
      "text/plain": [
       "Index(['fixed acidity', 'volatile acidity', 'citric acid', 'residual sugar',\n",
       "       'chlorides', 'free sulfur dioxide', 'total sulfur dioxide', 'density',\n",
       "       'pH', 'sulphates', 'alcohol', 'quality'],\n",
       "      dtype='object')"
      ]
     },
     "execution_count": 15,
     "metadata": {},
     "output_type": "execute_result"
    }
   ],
   "source": [
    "df_red.columns"
   ]
  },
  {
   "cell_type": "code",
   "execution_count": 57,
   "metadata": {},
   "outputs": [],
   "source": [
    "df_red['Type']=1\n",
    "df_white['Type']=0\n",
    "frame=[df_red,df_white]\n",
    "wines=pd.concat(frame,ignore_index=True)\n",
    "wines=wines.sample(frac=1)"
   ]
  },
  {
   "cell_type": "code",
   "execution_count": 58,
   "metadata": {},
   "outputs": [],
   "source": [
    "X=wines.iloc[:,0:11]\n",
    "Y=np.ravel(wines.iloc[:,12])\n",
    "X_train,X_test,Y_train,Y_test=sk.train_test_split(X,Y,test_size=0.33)"
   ]
  },
  {
   "cell_type": "code",
   "execution_count": 59,
   "metadata": {},
   "outputs": [],
   "source": [
    "scaler=pr.StandardScaler().fit(X_train)\n",
    "X_train=scaler.transform(X_train)\n",
    "X_test = scaler.transform(X_test)"
   ]
  },
  {
   "cell_type": "code",
   "execution_count": 60,
   "metadata": {},
   "outputs": [],
   "source": [
    "model=mdl.Sequential()"
   ]
  },
  {
   "cell_type": "code",
   "execution_count": 61,
   "metadata": {},
   "outputs": [],
   "source": [
    "model.add(Dense(12, activation='relu', input_shape=(11,)))\n",
    "model.add(Dense(8, activation='relu'))\n",
    "model.add(Dense(1, activation='sigmoid'))\n",
    "\n"
   ]
  },
  {
   "cell_type": "code",
   "execution_count": 62,
   "metadata": {},
   "outputs": [
    {
     "data": {
      "text/plain": [
       "[array([[ 2.11625040e-01,  1.12000585e-01,  9.24208760e-02,\n",
       "          3.85633707e-02, -2.60788560e-01,  2.84443378e-01,\n",
       "         -2.81412572e-01, -1.49469465e-01, -1.65782064e-01,\n",
       "          9.21652913e-02,  9.12041068e-02, -1.14597619e-01],\n",
       "        [ 1.31597996e-01,  4.81570363e-01,  4.63997781e-01,\n",
       "          5.10497749e-01, -3.46441805e-01,  1.70591116e-01,\n",
       "         -1.58670396e-01,  3.96780908e-01,  1.12522006e-01,\n",
       "         -2.99209595e-01,  3.56413066e-01, -3.38286161e-01],\n",
       "        [-1.49862409e-01,  3.73410165e-01, -2.82399416e-01,\n",
       "          4.15489614e-01, -1.20035410e-01, -3.67250025e-01,\n",
       "          1.87379777e-01,  3.81093562e-01, -2.74771452e-02,\n",
       "          2.02722967e-01, -7.44738281e-02,  6.89241290e-02],\n",
       "        [ 3.39135885e-01, -3.25305462e-01,  1.19995356e-01,\n",
       "          2.05502331e-01,  3.77642274e-01, -3.26038063e-01,\n",
       "         -4.68124896e-01, -3.29613328e-01, -1.04172230e-02,\n",
       "          4.13060725e-01, -1.62259549e-01,  2.44350433e-02],\n",
       "        [ 4.95812953e-01, -7.83354938e-02,  4.80987906e-01,\n",
       "          1.76548958e-04,  4.40579057e-01,  2.29876041e-01,\n",
       "         -6.29855096e-02, -1.14439547e-01, -4.32003558e-01,\n",
       "          2.41206825e-01,  1.80554509e-01,  2.03949809e-01],\n",
       "        [ 5.03589094e-01, -4.53899115e-01, -3.71898115e-01,\n",
       "         -8.05535913e-02, -4.49043870e-01,  1.26198828e-01,\n",
       "          4.82517302e-01, -9.14065242e-02, -3.26492041e-01,\n",
       "          4.98316824e-01,  1.15482926e-01, -3.80236655e-01],\n",
       "        [-3.05972874e-01,  2.73332417e-01, -2.81299204e-01,\n",
       "          2.36590743e-01, -8.51981640e-02, -1.17695332e-03,\n",
       "         -1.09747618e-01, -9.91343558e-02, -3.92546713e-01,\n",
       "         -2.73809552e-01, -1.61452889e-02,  4.64577079e-02],\n",
       "        [ 3.70898128e-01,  4.82252419e-01, -2.76890397e-02,\n",
       "         -1.54215932e-01,  3.14225316e-01,  2.47951984e-01,\n",
       "         -3.99908870e-01, -5.92696965e-02,  7.75342584e-02,\n",
       "          3.57011795e-01, -2.86428034e-01, -2.87120819e-01],\n",
       "        [-4.96993423e-01,  4.39272344e-01,  4.11235631e-01,\n",
       "          9.42658782e-02, -4.43336606e-01, -3.94098222e-01,\n",
       "          7.75415301e-02, -3.83252859e-01,  2.56699681e-01,\n",
       "         -2.15451300e-01,  3.07793021e-02, -8.65644515e-02],\n",
       "        [-1.67420894e-01, -5.70033789e-02, -1.07816905e-01,\n",
       "         -1.22131348e-01,  1.51125908e-01, -4.95362639e-01,\n",
       "          3.63656282e-02, -2.43622184e-01,  1.63036823e-01,\n",
       "         -2.30859011e-01, -1.16594464e-01, -3.14324796e-02],\n",
       "        [ 3.99957836e-01, -3.76256883e-01, -8.63837302e-02,\n",
       "          4.49505508e-01,  3.55887115e-01,  1.85805380e-01,\n",
       "         -4.26173210e-05,  2.06981599e-01, -7.40724504e-02,\n",
       "         -1.51550800e-01,  3.36645484e-01,  2.78321087e-01]], dtype=float32),\n",
       " array([0., 0., 0., 0., 0., 0., 0., 0., 0., 0., 0., 0.], dtype=float32),\n",
       " array([[ 0.52019835, -0.1595827 ,  0.35490215,  0.2214027 ,  0.5201596 ,\n",
       "         -0.2596739 , -0.37950677, -0.5144671 ],\n",
       "        [ 0.38361984, -0.48748255,  0.2602827 , -0.29849368,  0.43989736,\n",
       "         -0.17482302,  0.2939952 ,  0.16723812],\n",
       "        [ 0.3432911 , -0.3394277 ,  0.11828488, -0.24845359,  0.05468655,\n",
       "         -0.3825898 , -0.13062224,  0.5266204 ],\n",
       "        [ 0.14443302, -0.18652871,  0.29371214, -0.50843817,  0.48489296,\n",
       "          0.5296781 , -0.31622314,  0.24978375],\n",
       "        [ 0.21894097, -0.40245003, -0.4250958 ,  0.45140964, -0.02995634,\n",
       "          0.50169814,  0.2628157 ,  0.07656878],\n",
       "        [ 0.37965965, -0.09858447, -0.02769387,  0.30056703, -0.20295438,\n",
       "          0.02353549, -0.40232074,  0.30736983],\n",
       "        [-0.25160518,  0.19305432,  0.5116428 ,  0.11474532, -0.27526197,\n",
       "         -0.36113703,  0.03031951, -0.25928554],\n",
       "        [ 0.38470572,  0.4724493 ,  0.42252272, -0.00718385, -0.16740721,\n",
       "          0.3171528 , -0.08903959, -0.2664066 ],\n",
       "        [ 0.31229913, -0.02038115,  0.38928032,  0.01253635, -0.05817804,\n",
       "         -0.508934  , -0.09258336, -0.14524564],\n",
       "        [ 0.0564158 , -0.30430198, -0.0673987 ,  0.11948717,  0.4462396 ,\n",
       "         -0.27844048,  0.23812217,  0.30399287],\n",
       "        [ 0.2935263 , -0.5219159 , -0.4112302 , -0.39099255,  0.19957203,\n",
       "         -0.01876771, -0.3241942 ,  0.4128244 ],\n",
       "        [ 0.11098963,  0.11948746, -0.54755896,  0.13636166,  0.08750808,\n",
       "          0.13723886,  0.10115433, -0.22774544]], dtype=float32),\n",
       " array([0., 0., 0., 0., 0., 0., 0., 0.], dtype=float32),\n",
       " array([[ 0.08387911],\n",
       "        [ 0.02694792],\n",
       "        [ 0.20977998],\n",
       "        [-0.35935006],\n",
       "        [-0.5059031 ],\n",
       "        [ 0.17197627],\n",
       "        [-0.17701197],\n",
       "        [-0.6551445 ]], dtype=float32),\n",
       " array([0.], dtype=float32)]"
      ]
     },
     "execution_count": 62,
     "metadata": {},
     "output_type": "execute_result"
    }
   ],
   "source": [
    "model.get_weights()"
   ]
  },
  {
   "cell_type": "code",
   "execution_count": 63,
   "metadata": {},
   "outputs": [],
   "source": [
    "model.compile(loss='binary_crossentropy',\n",
    "              optimizer='adam',\n",
    "              metrics=['accuracy'])"
   ]
  },
  {
   "cell_type": "code",
   "execution_count": 64,
   "metadata": {},
   "outputs": [
    {
     "name": "stdout",
     "output_type": "stream",
     "text": [
      "Epoch 1/20\n",
      "4352/4352 [==============================] - 3s 683us/step - loss: 0.0957 - acc: 0.9736\n",
      "Epoch 2/20\n",
      "4352/4352 [==============================] - 3s 628us/step - loss: 0.0286 - acc: 0.9943\n",
      "Epoch 3/20\n",
      "4352/4352 [==============================] - 3s 638us/step - loss: 0.0247 - acc: 0.9947\n",
      "Epoch 4/20\n",
      "4352/4352 [==============================] - 3s 628us/step - loss: 0.0210 - acc: 0.9959\n",
      "Epoch 5/20\n",
      "4352/4352 [==============================] - 3s 620us/step - loss: 0.0198 - acc: 0.9956\n",
      "Epoch 6/20\n",
      "4352/4352 [==============================] - 3s 673us/step - loss: 0.0175 - acc: 0.9961\n",
      "Epoch 7/20\n",
      "4352/4352 [==============================] - 3s 643us/step - loss: 0.0174 - acc: 0.9963\n",
      "Epoch 8/20\n",
      "4352/4352 [==============================] - 3s 640us/step - loss: 0.0151 - acc: 0.9968\n",
      "Epoch 9/20\n",
      "4352/4352 [==============================] - 3s 675us/step - loss: 0.0142 - acc: 0.9970\n",
      "Epoch 10/20\n",
      "4352/4352 [==============================] - 4s 805us/step - loss: 0.0141 - acc: 0.9975\n",
      "Epoch 11/20\n",
      "4352/4352 [==============================] - 3s 733us/step - loss: 0.0153 - acc: 0.9966\n",
      "Epoch 12/20\n",
      "4352/4352 [==============================] - 4s 845us/step - loss: 0.0125 - acc: 0.9977\n",
      "Epoch 13/20\n",
      "4352/4352 [==============================] - 3s 798us/step - loss: 0.0131 - acc: 0.9975\n",
      "Epoch 14/20\n",
      "4352/4352 [==============================] - 3s 788us/step - loss: 0.0119 - acc: 0.9977\n",
      "Epoch 15/20\n",
      "4352/4352 [==============================] - 3s 803us/step - loss: 0.0118 - acc: 0.9975\n",
      "Epoch 16/20\n",
      "4352/4352 [==============================] - 4s 902us/step - loss: 0.0113 - acc: 0.9979\n",
      "Epoch 17/20\n",
      "4352/4352 [==============================] - 4s 809us/step - loss: 0.0108 - acc: 0.9977\n",
      "Epoch 18/20\n",
      "4352/4352 [==============================] - 4s 904us/step - loss: 0.0108 - acc: 0.9977\n",
      "Epoch 19/20\n",
      "4352/4352 [==============================] - 4s 851us/step - loss: 0.0101 - acc: 0.9982\n",
      "Epoch 20/20\n",
      "4352/4352 [==============================] - 4s 920us/step - loss: 0.0096 - acc: 0.9979\n"
     ]
    },
    {
     "data": {
      "text/plain": [
       "<keras.callbacks.History at 0x1fc16e2f940>"
      ]
     },
     "execution_count": 64,
     "metadata": {},
     "output_type": "execute_result"
    }
   ],
   "source": [
    "model.fit(X_train, Y_train,epochs=20, batch_size=1, verbose=1)"
   ]
  },
  {
   "cell_type": "code",
   "execution_count": 65,
   "metadata": {},
   "outputs": [],
   "source": [
    "y_pred = model.predict(X_test)"
   ]
  },
  {
   "cell_type": "code",
   "execution_count": 72,
   "metadata": {},
   "outputs": [],
   "source": [
    "def ToBinary(x):\n",
    "    if(x>0.75):\n",
    "        return 1\n",
    "    else:\n",
    "        return 0"
   ]
  },
  {
   "cell_type": "code",
   "execution_count": 74,
   "metadata": {},
   "outputs": [
    {
     "data": {
      "text/plain": [
       "array([1, 0, 0, 0, 1])"
      ]
     },
     "execution_count": 74,
     "metadata": {},
     "output_type": "execute_result"
    }
   ],
   "source": [
    "y_binary=np.array([ToBinary(y) for y in y_pred])\n",
    "y_binary[:5]"
   ]
  },
  {
   "cell_type": "code",
   "execution_count": 67,
   "metadata": {},
   "outputs": [
    {
     "data": {
      "text/plain": [
       "array([1, 0, 0, 0, 1], dtype=int64)"
      ]
     },
     "execution_count": 67,
     "metadata": {},
     "output_type": "execute_result"
    }
   ],
   "source": [
    "Y_test[:5]"
   ]
  },
  {
   "cell_type": "code",
   "execution_count": 75,
   "metadata": {},
   "outputs": [
    {
     "name": "stdout",
     "output_type": "stream",
     "text": [
      "2145/2145 [==============================] - 0s 29us/step\n"
     ]
    }
   ],
   "source": [
    "score = model.evaluate(X_test, Y_test,verbose=1)"
   ]
  },
  {
   "cell_type": "code",
   "execution_count": 76,
   "metadata": {},
   "outputs": [
    {
     "name": "stdout",
     "output_type": "stream",
     "text": [
      "[0.03752363491130918, 0.9939393939393939]\n"
     ]
    }
   ],
   "source": [
    "print(score)"
   ]
  },
  {
   "cell_type": "code",
   "execution_count": null,
   "metadata": {},
   "outputs": [],
   "source": []
  }
 ],
 "metadata": {
  "kernelspec": {
   "display_name": "(Python 3.5) DeepLearning 2",
   "language": "python",
   "name": "deeplearning2"
  },
  "language_info": {
   "codemirror_mode": {
    "name": "ipython",
    "version": 3
   },
   "file_extension": ".py",
   "mimetype": "text/x-python",
   "name": "python",
   "nbconvert_exporter": "python",
   "pygments_lexer": "ipython3",
   "version": "3.5.6"
  }
 },
 "nbformat": 4,
 "nbformat_minor": 2
}
